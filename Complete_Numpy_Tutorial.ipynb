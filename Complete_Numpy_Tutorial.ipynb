{
  "nbformat": 4,
  "nbformat_minor": 0,
  "metadata": {
    "colab": {
      "provenance": [],
      "authorship_tag": "ABX9TyOEwFFKP+o09phUDqximHl6",
      "include_colab_link": true
    },
    "kernelspec": {
      "name": "python3",
      "display_name": "Python 3"
    },
    "language_info": {
      "name": "python"
    }
  },
  "cells": [
    {
      "cell_type": "markdown",
      "metadata": {
        "id": "view-in-github",
        "colab_type": "text"
      },
      "source": [
        "<a href=\"https://colab.research.google.com/github/Sowrove-Khan/Python_Programming/blob/main/Complete_Numpy_Tutorial.ipynb\" target=\"_parent\"><img src=\"https://colab.research.google.com/assets/colab-badge.svg\" alt=\"Open In Colab\"/></a>"
      ]
    },
    {
      "cell_type": "markdown",
      "source": [
        "NumPy means Numerical Python\n",
        "\n",
        "\n",
        "Advantages of NumPy Arrays:\n",
        "\n",
        "1.Allaws several mathmatical operations\n",
        "\n",
        "2.Faster operations"
      ],
      "metadata": {
        "id": "aVYqP7j81YHo"
      }
    },
    {
      "cell_type": "code",
      "execution_count": 1,
      "metadata": {
        "id": "PfYk1VpLwWaN"
      },
      "outputs": [],
      "source": [
        "import numpy as np"
      ]
    },
    {
      "cell_type": "markdown",
      "source": [
        "List Vs NumPy -Time consumption"
      ],
      "metadata": {
        "id": "0typsmfj2vG2"
      }
    },
    {
      "cell_type": "code",
      "source": [
        "from time import process_time"
      ],
      "metadata": {
        "id": "d_0kAGMF2VSX"
      },
      "execution_count": 3,
      "outputs": []
    },
    {
      "cell_type": "markdown",
      "source": [
        "Time taken by List"
      ],
      "metadata": {
        "id": "9ZbbaYvh3gZe"
      }
    },
    {
      "cell_type": "code",
      "source": [
        "python_list = [i for i in range(10000)]\n",
        "\n",
        "start_time = process_time()\n",
        "\n",
        "python_list = [i+5 for i in python_list]\n",
        "\n",
        "end_time = process_time()\n",
        "\n",
        "print(end_time - start_time)"
      ],
      "metadata": {
        "colab": {
          "base_uri": "https://localhost:8080/"
        },
        "id": "2ycz-PUm3MKl",
        "outputId": "c94e2cf8-61d5-4524-a1e4-2e4a05903688"
      },
      "execution_count": null,
      "outputs": [
        {
          "output_type": "stream",
          "name": "stdout",
          "text": [
            "0.0007504960000002114\n"
          ]
        }
      ]
    },
    {
      "cell_type": "markdown",
      "source": [
        "Time taken by NumPy Array"
      ],
      "metadata": {
        "id": "9rnv8sPI5jZM"
      }
    },
    {
      "cell_type": "code",
      "source": [
        "np_array = np.array([i for i in range(10000)])\n",
        "\n",
        "start_time = process_time()\n",
        "\n",
        "np_array += 5\n",
        "\n",
        "end_time = process_time()\n",
        "\n",
        "print(end_time - start_time)"
      ],
      "metadata": {
        "colab": {
          "base_uri": "https://localhost:8080/"
        },
        "id": "Eq9Ozj4v5GFR",
        "outputId": "668cd15e-9a1b-4bb0-c1da-37d794b753ee"
      },
      "execution_count": null,
      "outputs": [
        {
          "output_type": "stream",
          "name": "stdout",
          "text": [
            "0.00015549699999972688\n"
          ]
        }
      ]
    },
    {
      "cell_type": "markdown",
      "source": [],
      "metadata": {
        "id": "kky27L9G7dR_"
      }
    },
    {
      "cell_type": "markdown",
      "source": [
        "Creating List & NumPy Array"
      ],
      "metadata": {
        "id": "SMcRf57DK126"
      }
    },
    {
      "cell_type": "code",
      "source": [
        "#List [Values are separeted by chomma]\n",
        "\n",
        "list1 = [1,2,3,4,5]\n",
        "print(list1)\n",
        "type(list1)\n"
      ],
      "metadata": {
        "id": "p45tUJoo6z9Q",
        "colab": {
          "base_uri": "https://localhost:8080/"
        },
        "outputId": "f3ad88cb-916b-4394-bc48-49728398eecf"
      },
      "execution_count": 8,
      "outputs": [
        {
          "output_type": "stream",
          "name": "stdout",
          "text": [
            "[1, 2, 3, 4, 5]\n"
          ]
        },
        {
          "output_type": "execute_result",
          "data": {
            "text/plain": [
              "list"
            ]
          },
          "metadata": {},
          "execution_count": 8
        }
      ]
    },
    {
      "cell_type": "code",
      "source": [
        "#NumPy array [Values are not separeted by chomma & ndarray means number of dimension]\n",
        "\n",
        "np_array = np.array([1,2,3,4,5])\n",
        "print(np_array)\n",
        "type(np_array)"
      ],
      "metadata": {
        "colab": {
          "base_uri": "https://localhost:8080/"
        },
        "id": "I4S3pBUbLhBW",
        "outputId": "dc92accd-0aa0-41c4-c72d-d5d171309eec"
      },
      "execution_count": 9,
      "outputs": [
        {
          "output_type": "stream",
          "name": "stdout",
          "text": [
            "[1 2 3 4 5]\n"
          ]
        },
        {
          "output_type": "execute_result",
          "data": {
            "text/plain": [
              "numpy.ndarray"
            ]
          },
          "metadata": {},
          "execution_count": 9
        }
      ]
    },
    {
      "cell_type": "code",
      "source": [
        "#Creating 1 dim array [Array.shape diye dimension check kora jai(5,->is 1 dim, 5columns )]\n",
        "\n",
        "A1 = np.array([1,2,3,4,5])\n",
        "print(A1)\n",
        "A1.shape"
      ],
      "metadata": {
        "colab": {
          "base_uri": "https://localhost:8080/"
        },
        "id": "7s8NN4OxMArz",
        "outputId": "85dd9a1a-2b24-481f-a79d-f919445f4be0"
      },
      "execution_count": 11,
      "outputs": [
        {
          "output_type": "stream",
          "name": "stdout",
          "text": [
            "[1 2 3 4 5]\n"
          ]
        },
        {
          "output_type": "execute_result",
          "data": {
            "text/plain": [
              "(5,)"
            ]
          },
          "metadata": {},
          "execution_count": 11
        }
      ]
    },
    {
      "cell_type": "code",
      "source": [
        "#Creating 2 dim array [Array.shape diye dimension check kora jai(2,4->is 2 dim, 2rows & 4columns)]\n",
        "\n",
        "A2 = np.array([(1,2,3,4),(5,6,7,8)])\n",
        "print(A2)\n",
        "A2.shape"
      ],
      "metadata": {
        "colab": {
          "base_uri": "https://localhost:8080/"
        },
        "id": "Hr7kb-9ONlH3",
        "outputId": "07c3d60c-8631-4577-f161-09e579a6d979"
      },
      "execution_count": 14,
      "outputs": [
        {
          "output_type": "stream",
          "name": "stdout",
          "text": [
            "[[1 2 3 4]\n",
            " [5 6 7 8]]\n"
          ]
        },
        {
          "output_type": "execute_result",
          "data": {
            "text/plain": [
              "(2, 4)"
            ]
          },
          "metadata": {},
          "execution_count": 14
        }
      ]
    },
    {
      "cell_type": "code",
      "source": [
        "#Data conversion [int to float]\n",
        "\n",
        "A3 = np.array([(1,2,3,4),(5,6,7,8)],dtype=float)\n",
        "print(A3)\n",
        "A3.shape"
      ],
      "metadata": {
        "colab": {
          "base_uri": "https://localhost:8080/"
        },
        "id": "E4RN98kbOsrL",
        "outputId": "66ca2f97-a72a-4270-b14c-3ec3e54e8d3b"
      },
      "execution_count": 15,
      "outputs": [
        {
          "output_type": "stream",
          "name": "stdout",
          "text": [
            "[[1. 2. 3. 4.]\n",
            " [5. 6. 7. 8.]]\n"
          ]
        },
        {
          "output_type": "execute_result",
          "data": {
            "text/plain": [
              "(2, 4)"
            ]
          },
          "metadata": {},
          "execution_count": 15
        }
      ]
    },
    {
      "cell_type": "markdown",
      "source": [
        "Initial Placeholders in NumPy Arrays"
      ],
      "metadata": {
        "id": "gedfd4r9QyD8"
      }
    },
    {
      "cell_type": "code",
      "source": [
        "#Create a numpy array of zeros\n",
        "\n",
        "Z1 = np.zeros((4,5))\n",
        "print(Z1)\n",
        "Z1.shape"
      ],
      "metadata": {
        "colab": {
          "base_uri": "https://localhost:8080/"
        },
        "id": "el7I6QNjQlYe",
        "outputId": "d6942125-f56d-4d5d-e24b-daf07beb3dd0"
      },
      "execution_count": 16,
      "outputs": [
        {
          "output_type": "stream",
          "name": "stdout",
          "text": [
            "[[0. 0. 0. 0. 0.]\n",
            " [0. 0. 0. 0. 0.]\n",
            " [0. 0. 0. 0. 0.]\n",
            " [0. 0. 0. 0. 0.]]\n"
          ]
        },
        {
          "output_type": "execute_result",
          "data": {
            "text/plain": [
              "(4, 5)"
            ]
          },
          "metadata": {},
          "execution_count": 16
        }
      ]
    },
    {
      "cell_type": "code",
      "source": [
        "#Create a numpy array of ones\n",
        "\n",
        "Z2 = np.ones((4,5))\n",
        "print(Z2)\n",
        "Z2.shape"
      ],
      "metadata": {
        "colab": {
          "base_uri": "https://localhost:8080/"
        },
        "id": "KkW9URNaRiu1",
        "outputId": "e3ceb496-6294-49c7-a3d3-555fbc1400bf"
      },
      "execution_count": 17,
      "outputs": [
        {
          "output_type": "stream",
          "name": "stdout",
          "text": [
            "[[1. 1. 1. 1. 1.]\n",
            " [1. 1. 1. 1. 1.]\n",
            " [1. 1. 1. 1. 1.]\n",
            " [1. 1. 1. 1. 1.]]\n"
          ]
        },
        {
          "output_type": "execute_result",
          "data": {
            "text/plain": [
              "(4, 5)"
            ]
          },
          "metadata": {},
          "execution_count": 17
        }
      ]
    },
    {
      "cell_type": "code",
      "source": [
        "#Create a numpy array of a particular value\n",
        "\n",
        "Z3 = np.full((4,5),4)\n",
        "print(Z3)\n",
        "Z3.shape"
      ],
      "metadata": {
        "colab": {
          "base_uri": "https://localhost:8080/"
        },
        "id": "uExc0xHER0yb",
        "outputId": "e5319b03-1225-4b76-e409-813a1474d84e"
      },
      "execution_count": 18,
      "outputs": [
        {
          "output_type": "stream",
          "name": "stdout",
          "text": [
            "[[4 4 4 4 4]\n",
            " [4 4 4 4 4]\n",
            " [4 4 4 4 4]\n",
            " [4 4 4 4 4]]\n"
          ]
        },
        {
          "output_type": "execute_result",
          "data": {
            "text/plain": [
              "(4, 5)"
            ]
          },
          "metadata": {},
          "execution_count": 18
        }
      ]
    },
    {
      "cell_type": "code",
      "source": [
        "#Creating Identity matrix [np.eye]\n",
        "\n",
        "I = np.eye(3)\n",
        "print(I)\n",
        "I.shape"
      ],
      "metadata": {
        "colab": {
          "base_uri": "https://localhost:8080/"
        },
        "id": "NyY3kuo0XC4L",
        "outputId": "d91c12ed-cc2c-47ab-fb72-6a203c978057"
      },
      "execution_count": 4,
      "outputs": [
        {
          "output_type": "stream",
          "name": "stdout",
          "text": [
            "[[1. 0. 0.]\n",
            " [0. 1. 0.]\n",
            " [0. 0. 1.]]\n"
          ]
        },
        {
          "output_type": "execute_result",
          "data": {
            "text/plain": [
              "(3, 3)"
            ]
          },
          "metadata": {},
          "execution_count": 4
        }
      ]
    },
    {
      "cell_type": "code",
      "source": [
        "#Creating NumPy array with random values [values are decimal and always between 0 to 1]\n",
        "\n",
        "R1 = np.random.random((3,3))\n",
        "print(R1)"
      ],
      "metadata": {
        "colab": {
          "base_uri": "https://localhost:8080/"
        },
        "id": "vYZ4c23SXR-g",
        "outputId": "0fd78870-0db3-4b93-9c41-51f890aaa2fd"
      },
      "execution_count": 7,
      "outputs": [
        {
          "output_type": "stream",
          "name": "stdout",
          "text": [
            "[[0.90744302 0.05279483 0.83159224]\n",
            " [0.83733803 0.28620238 0.39292499]\n",
            " [0.37106894 0.76567995 0.7041688 ]]\n"
          ]
        }
      ]
    },
    {
      "cell_type": "code",
      "source": [
        "#Creating NumPy array with random integer values within specific range [Range(1 to 50), size(4,4)]\n",
        "\n",
        "R2 = np.random.randint(1,50,(4,4))\n",
        "print(R2)"
      ],
      "metadata": {
        "colab": {
          "base_uri": "https://localhost:8080/"
        },
        "id": "qxEBzUQuYHGY",
        "outputId": "572e1517-30b1-4055-f099-371ff676ae4e"
      },
      "execution_count": 8,
      "outputs": [
        {
          "output_type": "stream",
          "name": "stdout",
          "text": [
            "[[ 9 29  9 33]\n",
            " [17 38 12  8]\n",
            " [20 24 10 17]\n",
            " [34 30 29 49]]\n"
          ]
        }
      ]
    },
    {
      "cell_type": "code",
      "source": [
        "#Creating the array of evenly(here is 4)spaced values ---> Specifying the number of values(here is 6)\n",
        "\n",
        "E1 = np.linspace(10,30,6)\n",
        "print(E1)"
      ],
      "metadata": {
        "colab": {
          "base_uri": "https://localhost:8080/"
        },
        "id": "QK4brDUMZQWE",
        "outputId": "06446222-1876-454a-a4a1-d67df1f206e3"
      },
      "execution_count": 5,
      "outputs": [
        {
          "output_type": "stream",
          "name": "stdout",
          "text": [
            "[10. 14. 18. 22. 26. 30.]\n"
          ]
        }
      ]
    },
    {
      "cell_type": "code",
      "source": [
        "#Creating the array of evenly(here is 5)spaced values ---> Specifying the step(here is 5)\n",
        "\n",
        "E2 = np.arange(10,30,5)\n",
        "print(E2)"
      ],
      "metadata": {
        "colab": {
          "base_uri": "https://localhost:8080/"
        },
        "id": "7ld90Dhlwdrn",
        "outputId": "a0531601-c6ba-41bf-ece7-795a4ce920b0"
      },
      "execution_count": 7,
      "outputs": [
        {
          "output_type": "stream",
          "name": "stdout",
          "text": [
            "[10 15 20 25]\n"
          ]
        }
      ]
    },
    {
      "cell_type": "code",
      "source": [
        "#Convert a List to a NumPy array [using np.asarray(list_name)]\n",
        "\n",
        "List2 = [1,2,3,4,5]\n",
        "print(List2)\n",
        "\n",
        "np_array1 = np.asarray(List2)\n",
        "print(np_array1)\n",
        "type(np_array1)"
      ],
      "metadata": {
        "colab": {
          "base_uri": "https://localhost:8080/"
        },
        "id": "61dxklPvy2RT",
        "outputId": "80ce5249-c8b5-4722-95e5-81cfa8fd9656"
      },
      "execution_count": 8,
      "outputs": [
        {
          "output_type": "stream",
          "name": "stdout",
          "text": [
            "[1, 2, 3, 4, 5]\n",
            "[1 2 3 4 5]\n"
          ]
        },
        {
          "output_type": "execute_result",
          "data": {
            "text/plain": [
              "numpy.ndarray"
            ]
          },
          "metadata": {},
          "execution_count": 8
        }
      ]
    },
    {
      "cell_type": "markdown",
      "source": [
        "Analysing a NumPy array"
      ],
      "metadata": {
        "id": "7CYPlU1y1Lf5"
      }
    },
    {
      "cell_type": "code",
      "source": [
        "A = np.random.randint(10,80,(5,5))\n",
        "print(A)\n",
        "\n",
        "#Check Number of Rows and Columns(here 5)\n",
        "print(A.shape)\n",
        "\n",
        "#Check Number of Dimensions(here 2D)\n",
        "print(A.ndim)\n",
        "\n",
        "#Check Number of Elements(here 25)\n",
        "print(A.size)\n",
        "\n",
        "#Check the data type of the values stored in the array(int64 means 64 bit integer type)\n",
        "print(A.dtype)"
      ],
      "metadata": {
        "colab": {
          "base_uri": "https://localhost:8080/"
        },
        "id": "K-pAfsty0V6m",
        "outputId": "8a260881-b6f3-4cc1-b7b5-f0aa33d0fbde"
      },
      "execution_count": 12,
      "outputs": [
        {
          "output_type": "stream",
          "name": "stdout",
          "text": [
            "[[60 74 39 52 23]\n",
            " [78 64 38 63 36]\n",
            " [25 33 74 29 12]\n",
            " [69 63 15 54 22]\n",
            " [48 16 23 61 30]]\n",
            "(5, 5)\n",
            "2\n",
            "25\n",
            "int64\n"
          ]
        }
      ]
    },
    {
      "cell_type": "markdown",
      "source": [
        "Mathmatical Operations on a NP Array"
      ],
      "metadata": {
        "id": "hXoXoQoz6h9i"
      }
    },
    {
      "cell_type": "code",
      "source": [
        "#Concatinate Or Join\n",
        "\n",
        "L1  = [1,2,3,4,5]\n",
        "L2  = [6,7,8,9,10]\n",
        "print(L1 + L2)\n",
        "\n",
        "#Element Wise Operation on NumPy Array\n",
        "\n",
        "npa1 = np.random.randint(0,10,(3,3))\n",
        "print(npa1)\n",
        "npa2 = np.random.randint(10,20,(3,3))\n",
        "print(npa2)\n",
        "print(npa1 + npa2) #Addition by element\n",
        "print(npa1 - npa2) #Subtraction by element\n",
        "print(npa1 * npa2) #Multiplication by element\n",
        "print(npa1 / npa2) #Division by element\n",
        "\n",
        "\n",
        "#Another Way\n",
        "\n",
        "print(np.add(npa1,npa2)) #Addition by element\n",
        "print(np.subtract(npa1,npa2)) #Subtraction by element\n",
        "print(np.multiply(npa1,npa2)) #Multiplication by element\n",
        "print(np.divide(npa1,npa2)) #Division by element"
      ],
      "metadata": {
        "colab": {
          "base_uri": "https://localhost:8080/"
        },
        "id": "BNEZAkDJ4rU9",
        "outputId": "b9d6e718-e138-4533-bd93-e0237007ebe3"
      },
      "execution_count": 18,
      "outputs": [
        {
          "output_type": "stream",
          "name": "stdout",
          "text": [
            "[1, 2, 3, 4, 5, 6, 7, 8, 9, 10]\n",
            "[[3 7 8]\n",
            " [5 8 1]\n",
            " [9 1 9]]\n",
            "[[12 10 16]\n",
            " [14 15 12]\n",
            " [19 19 10]]\n",
            "[[15 17 24]\n",
            " [19 23 13]\n",
            " [28 20 19]]\n",
            "[[ -9  -3  -8]\n",
            " [ -9  -7 -11]\n",
            " [-10 -18  -1]]\n",
            "[[ 36  70 128]\n",
            " [ 70 120  12]\n",
            " [171  19  90]]\n",
            "[[0.25       0.7        0.5       ]\n",
            " [0.35714286 0.53333333 0.08333333]\n",
            " [0.47368421 0.05263158 0.9       ]]\n",
            "[[15 17 24]\n",
            " [19 23 13]\n",
            " [28 20 19]]\n",
            "[[ -9  -3  -8]\n",
            " [ -9  -7 -11]\n",
            " [-10 -18  -1]]\n",
            "[[ 36  70 128]\n",
            " [ 70 120  12]\n",
            " [171  19  90]]\n",
            "[[0.25       0.7        0.5       ]\n",
            " [0.35714286 0.53333333 0.08333333]\n",
            " [0.47368421 0.05263158 0.9       ]]\n"
          ]
        }
      ]
    },
    {
      "cell_type": "markdown",
      "source": [
        "Array Manipulation"
      ],
      "metadata": {
        "id": "6wpje1W3AMA6"
      }
    },
    {
      "cell_type": "code",
      "source": [
        "Array = np.random.randint(0,10,(3,4))\n",
        "print(Array)\n",
        "print(Array.shape)\n",
        "\n",
        "#Transpose of Array\n",
        "\n",
        "Trans = np.transpose(Array)\n",
        "print(Trans)\n",
        "print(Trans.shape)\n",
        "\n",
        "#Re-shaping a array\n",
        "\n",
        "R = Array.reshape(4,3)\n",
        "print(R)\n",
        "print(R.shape)"
      ],
      "metadata": {
        "colab": {
          "base_uri": "https://localhost:8080/"
        },
        "id": "61xa77Q98BIa",
        "outputId": "5338c932-7388-4bc7-a6f1-df98354a8613"
      },
      "execution_count": 22,
      "outputs": [
        {
          "output_type": "stream",
          "name": "stdout",
          "text": [
            "[[5 5 9 4]\n",
            " [0 7 3 4]\n",
            " [6 4 8 7]]\n",
            "(3, 4)\n",
            "[[5 0 6]\n",
            " [5 7 4]\n",
            " [9 3 8]\n",
            " [4 4 7]]\n",
            "(4, 3)\n",
            "[[5 5 9]\n",
            " [4 0 7]\n",
            " [3 4 6]\n",
            " [4 8 7]]\n",
            "(4, 3)\n"
          ]
        }
      ]
    },
    {
      "cell_type": "code",
      "source": [],
      "metadata": {
        "id": "zN_leLtmAf7-"
      },
      "execution_count": null,
      "outputs": []
    }
  ]
}